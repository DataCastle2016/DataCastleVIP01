{
 "cells": [
  {
   "cell_type": "markdown",
   "metadata": {},
   "source": [
    "## PyMySQL\n",
    "PyMySQL 是在 Python3.x 版本中用于连接 MySQL 服务器的一个库，Python2中则使用mysqldb。\n",
    "### 安装\n",
    "pip install PyMySQL\n",
    "\n",
    "也可以到github上下载\n",
    "\n",
    "下载地址：https://github.com/PyMySQL/PyMySQL\n",
    "\n",
    "注意：在使用之前需要先创建好database！"
   ]
  },
  {
   "cell_type": "markdown",
   "metadata": {},
   "source": [
    "### 连接数据库"
   ]
  },
  {
   "cell_type": "code",
   "execution_count": 5,
   "metadata": {},
   "outputs": [
    {
     "name": "stdout",
     "output_type": "stream",
     "text": [
      "('8.0.14',)\n"
     ]
    }
   ],
   "source": [
    "#导入pymysql\n",
    "import pymysql\n",
    "\n",
    "# 打开数据库连接\n",
    "#pymysql.connect('地址','用户名','密码','数据库')\n",
    "db = pymysql.connect(\"127.0.0.1\",\"root\",\"proot\",\"test\")\n",
    "\n",
    "#使用 cursor() 方法创建一个游标对象 cursor\n",
    "cursor = db.cursor()\n",
    "\n",
    "# 使用 execute()  方法执行 SQL 语句\n",
    "cursor.execute(\"SELECT VERSION()\")\n",
    "\n",
    "# 使用 fetchone() 方法获取单条数据.\n",
    "data = cursor.fetchone()\n",
    " \n",
    "print (data)\n",
    " \n",
    "# 关闭数据库连接\n",
    "db.close()"
   ]
  },
  {
   "cell_type": "markdown",
   "metadata": {},
   "source": [
    "### 创建表\n"
   ]
  },
  {
   "cell_type": "code",
   "execution_count": 6,
   "metadata": {},
   "outputs": [],
   "source": [
    "#导入pymysl\n",
    "import pymysql\n",
    " \n",
    "# 打开数据库连接\n",
    "db = pymysql.connect(\"127.0.0.1\",\"root\",\"proot\",\"test\")\n",
    " \n",
    "# 使用 cursor() 方法创建一个游标对象 cursor\n",
    "cursor = db.cursor()\n",
    " \n",
    "# 使用预处理语句创建表\n",
    "sql = \"\"\"create table student\n",
    "        (\n",
    "        sno varchar(20) not null primary key,\n",
    "        sname varchar(20) not null,\n",
    "        ssex varchar(20) not null,\n",
    "        sbirthday datetime,\n",
    "        class varchar(20)\n",
    "        )\n",
    "    \"\"\"\n",
    " \n",
    "cursor.execute(sql)\n",
    " \n",
    "# 关闭数据库连接\n",
    "db.close()"
   ]
  },
  {
   "cell_type": "markdown",
   "metadata": {},
   "source": [
    "### 插入数据"
   ]
  },
  {
   "cell_type": "code",
   "execution_count": 9,
   "metadata": {},
   "outputs": [],
   "source": [
    "import pymysql\n",
    " \n",
    "# 打开数据库连接\n",
    "db = pymysql.connect(\"127.0.0.1\",\"root\",\"proot\",\"test\")\n",
    " \n",
    "# 使用cursor()方法获取操作游标 \n",
    "cursor = db.cursor()\n",
    " \n",
    "# SQL 插入语句\n",
    "sql = \"insert into student values('108','曾华','男','1977-09-01','95033');\"\n",
    "try:\n",
    "   # 执行sql语句\n",
    "   cursor.execute(sql)\n",
    "   # 提交到数据库执行\n",
    "   db.commit()\n",
    "except:\n",
    "   # 如果发生错误则回滚\n",
    "   db.rollback()\n",
    " \n",
    "db.close()"
   ]
  },
  {
   "cell_type": "markdown",
   "metadata": {},
   "source": [
    "### 查询数据\n",
    "fetchone(): 该方法获取下一个查询结果集。结果集是一个对象。\n",
    "\n",
    "fetchall(): 接收全部的返回结果行。\n",
    "\n",
    "rowcount: 这是一个只读属性，并返回执行execute()方法后影响的行数。"
   ]
  },
  {
   "cell_type": "code",
   "execution_count": 17,
   "metadata": {},
   "outputs": [
    {
     "name": "stdout",
     "output_type": "stream",
     "text": [
      "学号:101, 姓名:李军, 性别:男, 生日:1976-02-20 00:00:00, 班级:95033\n",
      "学号:103, 姓名:陆君, 性别:男, 生日:1974-06-03 00:00:00, 班级:95031\n",
      "学号:105, 姓名:匡明, 性别:男, 生日:1975-10-02 00:00:00, 班级:95031\n",
      "学号:107, 姓名:王丽, 性别:女, 生日:1976-01-23 00:00:00, 班级:95033\n",
      "学号:108, 姓名:曾华, 性别:女, 生日:1977-09-01 00:00:00, 班级:95033\n",
      "学号:109, 姓名:王芳, 性别:女, 生日:1975-02-10 00:00:00, 班级:95031\n"
     ]
    }
   ],
   "source": [
    "import pymysql\n",
    " \n",
    "# 打开数据库连接\n",
    "db = pymysql.connect(\"127.0.0.1\",\"root\",\"proot\",\"test\")\n",
    " \n",
    "# 使用cursor()方法获取操作游标 \n",
    "cursor = db.cursor()\n",
    " \n",
    "# SQL 查询语句\n",
    "sql = \"SELECT * FROM student\"\n",
    "       \n",
    "try:\n",
    "   # 执行SQL语句\n",
    "   cursor.execute(sql)\n",
    "   # 获取所有记录列表\n",
    "   results = cursor.fetchall()\n",
    "   for row in results:\n",
    "      sno = row[0]\n",
    "      name = row[1]\n",
    "      sex = row[2]\n",
    "      birthday = row[3]\n",
    "      sclass = row[4]\n",
    "       # 打印结果\n",
    "      print (\"学号:{}, 姓名:{}, 性别:{}, 生日:{}, 班级:{}\".format(sno, name, sex, birthday, sclass))\n",
    "except:\n",
    "   print (\"Error\")\n",
    " \n",
    "# 关闭数据库连接\n",
    "db.close()"
   ]
  },
  {
   "cell_type": "markdown",
   "metadata": {},
   "source": [
    "### 更新数据"
   ]
  },
  {
   "cell_type": "code",
   "execution_count": 13,
   "metadata": {},
   "outputs": [],
   "source": [
    "import pymysql\n",
    " \n",
    "# 打开数据库连接\n",
    "db = pymysql.connect(\"127.0.0.1\",\"root\",\"proot\",\"test\")\n",
    " \n",
    "# 使用cursor()方法获取操作游标 \n",
    "cursor = db.cursor()\n",
    " \n",
    "# SQL 更新语句\n",
    "sql = \"UPDATE student SET ssex = '女' WHERE sno = '108'\"\n",
    "try:\n",
    "   # 执行SQL语句\n",
    "   cursor.execute(sql)\n",
    "   # 提交到数据库执行\n",
    "   db.commit()\n",
    "except:\n",
    "   # 发生错误时回滚\n",
    "   db.rollback()\n",
    " \n",
    "# 关闭数据库连接\n",
    "db.close()"
   ]
  },
  {
   "cell_type": "markdown",
   "metadata": {},
   "source": [
    "### 删除数据"
   ]
  },
  {
   "cell_type": "code",
   "execution_count": 15,
   "metadata": {},
   "outputs": [],
   "source": [
    "import pymysql\n",
    " \n",
    "# 打开数据库连接\n",
    "db = pymysql.connect(\"127.0.0.1\",\"root\",\"proot\",\"test\")\n",
    " \n",
    "# 使用cursor()方法获取操作游标 \n",
    "cursor = db.cursor()\n",
    " \n",
    "# SQL 删除语句\n",
    "sql = \"DELETE FROM student WHERE ssex = '男'\"\n",
    "try:\n",
    "   # 执行SQL语句\n",
    "   cursor.execute(sql)\n",
    "   # 提交修改\n",
    "   db.commit()\n",
    "except:\n",
    "   # 发生错误时回滚\n",
    "   db.rollback()\n",
    " \n",
    "# 关闭连接\n",
    "db.close()"
   ]
  },
  {
   "attachments": {
    "image.png": {
     "image/png": "[encoded data removed]"
    }
   },
   "cell_type": "markdown",
   "metadata": {},
   "source": [
    "### 执行事务\n",
    "事务机制可以确保数据一致性。\n",
    "\n",
    "事务应该具有4个属性：原子性、一致性、隔离性、持久性。这四个属性通常称为ACID特性。\n",
    "\n",
    "原子性（atomicity）。一个事务是一个不可分割的工作单位，事务中包括的诸操作要么都做，要么都不做。\n",
    "\n",
    "一致性（consistency）。事务必须是使数据库从一个一致性状态变到另一个一致性状态。一致性与原子性是密切相关的。\n",
    "\n",
    "隔离性（isolation）。一个事务的执行不能被其他事务干扰。即一个事务内部的操作及使用的数据对并发的其他事务是隔离的，并发执行的各个事务之间不能互相干扰。\n",
    "\n",
    "持久性（durability）。持续性也称永久性（permanence），指一个事务一旦提交，它对数据库中数据的改变就应该是永久性的。接下来的其他操作或故障不应该对其有任何影响。\n",
    "\n",
    "对于支持事务的数据库， 在Python数据库编程中，当游标建立之时，就自动开始了一个隐形的数据库事务。\n",
    "\n",
    "commit()方法游标的所有更新操作，rollback（）方法回滚当前游标的所有操作。每一个方法都开始了一个新的事务。\n",
    "\n",
    "在Mysql中：\n",
    "\n",
    "BEGIN 开始一个事务\n",
    "\n",
    "ROLLBACK 事务回滚\n",
    "\n",
    "COMMIT 事务确认\n",
    "![image.png](attachment:image.png)\n"
   ]
  },
  {
   "attachments": {
    "image.png": {
     "image/png": "[encoded data removed]"
    }
   },
   "cell_type": "markdown",
   "metadata": {},
   "source": [
    "\n",
    "![image.png](attachment:image.png)"
   ]
  },
  {
   "cell_type": "code",
   "execution_count": null,
   "metadata": {},
   "outputs": [],
   "source": []
  }
 ],
 "metadata": {
  "kernelspec": {
   "display_name": "Python 3",
   "language": "python",
   "name": "python3"
  },
  "language_info": {
   "codemirror_mode": {
    "name": "ipython",
    "version": 3
   },
   "file_extension": ".py",
   "mimetype": "text/x-python",
   "name": "python",
   "nbconvert_exporter": "python",
   "pygments_lexer": "ipython3",
   "version": "3.7.1"
  }
 },
 "nbformat": 4,
 "nbformat_minor": 2
}
