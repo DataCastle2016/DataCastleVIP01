{
 "cells": [
  {
   "cell_type": "markdown",
   "metadata": {},
   "source": [
    "## scipy\n",
    "SciPy库依赖于NumPy，它提供了便捷且快速的N维数组操作。 SciPy库的构建与NumPy数组一起工作，并提供了许多用户友好和高效的数字实践，例如:数值积分和优化的例程。 它们一起运行在所有流行的操作系统上，安装快速且免费。 NumPy和SciPy易于使用，但强大到足以依靠世界上一些顶尖的科学家和工程师。\n",
    "\n",
    "### 安装\n",
    "pip install scipy\n",
    "\n"
   ]
  },
  {
   "cell_type": "markdown",
   "metadata": {},
   "source": [
    "### 保存和读取文件"
   ]
  },
  {
   "cell_type": "code",
   "execution_count": 1,
   "metadata": {},
   "outputs": [],
   "source": [
    "from scipy import io              #导入io\n",
    "import numpy as np                #导入numpy并命名为np    \n",
    "arr = np.array([1,2,3,4,5,6])\n",
    "\n",
    "#保存文件\n",
    "#io.savemat('name',{dict})\n",
    "io.savemat('test.mat',{'arr1':arr})\n",
    "loadArr=io.loadmat('test.mat')\n"
   ]
  },
  {
   "cell_type": "code",
   "execution_count": 2,
   "metadata": {},
   "outputs": [
    {
     "data": {
      "text/plain": [
       "{'__header__': b'MATLAB 5.0 MAT-file Platform: nt, Created on: Mon Jul 29 08:53:46 2019',\n",
       " '__version__': '1.0',\n",
       " '__globals__': [],\n",
       " 'arr1': array([[1, 2, 3, 4, 5, 6]])}"
      ]
     },
     "execution_count": 2,
     "metadata": {},
     "output_type": "execute_result"
    }
   ],
   "source": [
    "#读取文件\n",
    "#io.loadmat('name')\n",
    "data = io.loadmat('test.mat')\n",
    "data"
   ]
  },
  {
   "cell_type": "markdown",
   "metadata": {},
   "source": [
    "### scipy.stats中的统计函数分析随机数\n"
   ]
  },
  {
   "cell_type": "code",
   "execution_count": 3,
   "metadata": {},
   "outputs": [],
   "source": [
    "from scipy import stats  \n",
    "# stats提供了产生连续性分布的函数 \n",
    "# 均匀分布（uniform） \n",
    "x=stats.uniform.rvs(size = 20)\n",
    "#生成20个[0,1]均匀分布随机数 \n",
    "\n",
    "# -正态分布（norm） \n",
    "x=stats.norm.rvs(size = 20)\n",
    "#生成20个正态分布随机数 \n",
    "\n",
    "# -贝塔分布（beta） \n",
    "x=stats.beta.rvs(size=20,a=3,b=4)\n",
    "#生成20个服从参数a=3,b=4贝塔分布随机数 \n",
    " \n",
    "# -泊松分布（poisson） \n",
    "x=stats.poisson.rvs(0.6,loc=0,size = 20)\n",
    "#生成20个服从泊松分布随机数\n"
   ]
  },
  {
   "cell_type": "markdown",
   "metadata": {},
   "source": [
    "### 计算随机数均值和标准差\n",
    "stats.norm.fit :利用正态分布去拟合生成的数据，得到其均值和标准差"
   ]
  },
  {
   "cell_type": "code",
   "execution_count": 4,
   "metadata": {},
   "outputs": [
    {
     "name": "stdout",
     "output_type": "stream",
     "text": [
      "平均值 -0.04212244953490511\n",
      "std标准差 1.0159301772450002\n"
     ]
    }
   ],
   "source": [
    "import numpy as np\n",
    "from scipy import stats\n",
    "import matplotlib.pyplot as plt\n",
    "\n",
    "arr = stats.norm.rvs(size=900)\n",
    "(mean,std) = stats.norm.fit(arr)\n",
    "print('平均值',mean)       #mean平均值\n",
    "print('std标准差',std)     #std标准差\n"
   ]
  },
  {
   "cell_type": "markdown",
   "metadata": {},
   "source": [
    "### 计算随机数的偏度\n",
    "1.概念： \n",
    "\n",
    "偏度（skewness）描述的是概率分布的偏度（非对称）程度。\n",
    "\n",
    "有两个返回值，第二个为p-value，即数据集服从正态分布的概率（0~1）\n",
    "\n",
    "2 利用 stats.skewtest()计算偏度\n"
   ]
  },
  {
   "cell_type": "code",
   "execution_count": 5,
   "metadata": {},
   "outputs": [
    {
     "name": "stdout",
     "output_type": "stream",
     "text": [
      "偏度值\n",
      "0.6737973436377096\n",
      "符合正态分布数据的概率为\n",
      "0.5004401639058014\n"
     ]
    }
   ],
   "source": [
    "(skewness,pvalue1) = stats.skewtest(arr)\n",
    "print('偏度值')    \n",
    "print(skewness)\n",
    "print('符合正态分布数据的概率为')\n",
    "print(pvalue1)"
   ]
  },
  {
   "cell_type": "markdown",
   "metadata": {},
   "source": [
    "### 计算随机数的峰度\n",
    "1 概念：峰度（kurtosis）-描述的是概率分布曲线陡峭程度 \n",
    "\n",
    "2 利用 stats.kurtosis() 计算峰度\n",
    "\n",
    "3 正态分布峰度值为3，excess_k为0 \n",
    "\n",
    "      低阔峰(platykurtic) 相对于正态分布来说更扁平 excess_k<0 \n",
    "      \n",
    "      高狭峰(leptokurtic) 相对于正态分布来说更陡峭 excess_k>0\n"
   ]
  },
  {
   "cell_type": "code",
   "execution_count": 6,
   "metadata": {},
   "outputs": [
    {
     "name": "stdout",
     "output_type": "stream",
     "text": [
      "Kurtosistest 0.5315796817668517\n"
     ]
    }
   ],
   "source": [
    "(Kurtosistest,pvalue2) = stats.kurtosistest(arr)\n",
    "print('Kurtosistest',Kurtosistest)    #峰度"
   ]
  },
  {
   "cell_type": "markdown",
   "metadata": {},
   "source": [
    "### 正态分布程度检验\n",
    "1 正态性检验(normality test),同样返回两个值，第二个返回p-values \n",
    "\n",
    "2 利用 检验      stats.normaltest() \n",
    "\n",
    "    一般情况     pvalue>0.05                表示服从正态分布\n"
   ]
  },
  {
   "cell_type": "code",
   "execution_count": 7,
   "metadata": {},
   "outputs": [
    {
     "name": "stdout",
     "output_type": "stream",
     "text": [
      "pvalue2 0.5950171402484943\n",
      "Normltest 0.736579818360581\n"
     ]
    }
   ],
   "source": [
    "print('pvalue2',pvalue2)\n",
    "(Normltest,pvalue3) = stats.normaltest(arr)\n",
    "print('Normltest',Normltest)          #服从正太分布度"
   ]
  },
  {
   "cell_type": "markdown",
   "metadata": {},
   "source": [
    "### 计算数据所在区域中某一百分比处的数值\n",
    "1 利用scoreatpercentile 计算在某一百分比位置的数值 \n",
    "\n",
    "        格式：scoreatpercentile (数据集、百分比) \n",
    "        \n",
    "        stats.scoreatpercentile(name_arr,percent) \n",
    "            \n",
    "2 示例：求出95%所在位置的数值 \n",
    "\n",
    "        num = stats.scoreatpercentile(arr,95)\n",
    "        \n",
    "        print(num)\n"
   ]
  },
  {
   "cell_type": "code",
   "execution_count": 8,
   "metadata": {
    "scrolled": true
   },
   "outputs": [
    {
     "name": "stdout",
     "output_type": "stream",
     "text": [
      "pvalue3 0.6919165596464132\n",
      "在95%处的数值：\n",
      "1.5941786592887324\n"
     ]
    }
   ],
   "source": [
    "print('pvalue3',pvalue3)\n",
    "num = stats.scoreatpercentile(arr,95) #某一百分比处的数值\n",
    "print('在95%处的数值：')                #某一百分比处的数值\n",
    "print(num)"
   ]
  },
  {
   "cell_type": "markdown",
   "metadata": {},
   "source": [
    "### 从某数值出发找到对应的百分比\n",
    "利用percentileofscore计算在某数值对应的百分比 \n",
    "\n",
    "        格式：percentileofscore(数据集,数值)\n",
    "        \n",
    "        示例：indexPercent = stats.percentileofscore(arr,1)\n"
   ]
  },
  {
   "cell_type": "code",
   "execution_count": 9,
   "metadata": {},
   "outputs": [
    {
     "name": "stdout",
     "output_type": "stream",
     "text": [
      "在数值1处的百分比：\n",
      "85.55555555555556\n"
     ]
    }
   ],
   "source": [
    "indexPercent = stats.percentileofscore(arr,1) #某一数值处的百分比\n",
    "print ('在数值1处的百分比：')                   #某一数值处的百分比\n",
    "print(indexPercent)"
   ]
  },
  {
   "cell_type": "code",
   "execution_count": 10,
   "metadata": {},
   "outputs": [
    {
     "data": {
      "image/png": "[encoded data removed]",
      "text/plain": [
       "<Figure size 432x288 with 1 Axes>"
      ]
     },
     "metadata": {
      "needs_background": "light"
     },
     "output_type": "display_data"
    }
   ],
   "source": [
    "#直方图显示\n",
    "plt.hist(arr) #设置直方图 \n",
    "plt.show() #显示图"
   ]
  },
  {
   "cell_type": "markdown",
   "metadata": {},
   "source": [
    "scipy文档：https://scipy.org/docs.html"
   ]
  },
  {
   "cell_type": "markdown",
   "metadata": {},
   "source": [
    "## statsmodels\n",
    "这个非常简单的案例研究旨在让您快速上手 statsmodels。从原始数据开始，我们将展示估计统计模型和绘制诊断图所需的步骤。我们只使用由statsmodels它或它pandas和patsy 依赖项提供的函数。"
   ]
  },
  {
   "cell_type": "code",
   "execution_count": 11,
   "metadata": {},
   "outputs": [
    {
     "data": {
      "text/html": [
       "<div>\n",
       "<style scoped>\n",
       "    .dataframe tbody tr th:only-of-type {\n",
       "        vertical-align: middle;\n",
       "    }\n",
       "\n",
       "    .dataframe tbody tr th {\n",
       "        vertical-align: top;\n",
       "    }\n",
       "\n",
       "    .dataframe thead th {\n",
       "        text-align: right;\n",
       "    }\n",
       "</style>\n",
       "<table border=\"1\" class=\"dataframe\">\n",
       "  <thead>\n",
       "    <tr style=\"text-align: right;\">\n",
       "      <th></th>\n",
       "      <th>dept</th>\n",
       "      <th>Region</th>\n",
       "      <th>Department</th>\n",
       "      <th>Crime_pers</th>\n",
       "      <th>Crime_prop</th>\n",
       "      <th>Literacy</th>\n",
       "      <th>Donations</th>\n",
       "      <th>Infants</th>\n",
       "      <th>Suicides</th>\n",
       "      <th>MainCity</th>\n",
       "      <th>...</th>\n",
       "      <th>Crime_parents</th>\n",
       "      <th>Infanticide</th>\n",
       "      <th>Donation_clergy</th>\n",
       "      <th>Lottery</th>\n",
       "      <th>Desertion</th>\n",
       "      <th>Instruction</th>\n",
       "      <th>Prostitutes</th>\n",
       "      <th>Distance</th>\n",
       "      <th>Area</th>\n",
       "      <th>Pop1831</th>\n",
       "    </tr>\n",
       "  </thead>\n",
       "  <tbody>\n",
       "    <tr>\n",
       "      <th>0</th>\n",
       "      <td>1</td>\n",
       "      <td>E</td>\n",
       "      <td>Ain</td>\n",
       "      <td>28870</td>\n",
       "      <td>15890</td>\n",
       "      <td>37</td>\n",
       "      <td>5098</td>\n",
       "      <td>33120</td>\n",
       "      <td>35039</td>\n",
       "      <td>2:Med</td>\n",
       "      <td>...</td>\n",
       "      <td>71</td>\n",
       "      <td>60</td>\n",
       "      <td>69</td>\n",
       "      <td>41</td>\n",
       "      <td>55</td>\n",
       "      <td>46</td>\n",
       "      <td>13</td>\n",
       "      <td>218.372</td>\n",
       "      <td>5762</td>\n",
       "      <td>346.03</td>\n",
       "    </tr>\n",
       "    <tr>\n",
       "      <th>1</th>\n",
       "      <td>2</td>\n",
       "      <td>N</td>\n",
       "      <td>Aisne</td>\n",
       "      <td>26226</td>\n",
       "      <td>5521</td>\n",
       "      <td>51</td>\n",
       "      <td>8901</td>\n",
       "      <td>14572</td>\n",
       "      <td>12831</td>\n",
       "      <td>2:Med</td>\n",
       "      <td>...</td>\n",
       "      <td>4</td>\n",
       "      <td>82</td>\n",
       "      <td>36</td>\n",
       "      <td>38</td>\n",
       "      <td>82</td>\n",
       "      <td>24</td>\n",
       "      <td>327</td>\n",
       "      <td>65.945</td>\n",
       "      <td>7369</td>\n",
       "      <td>513.00</td>\n",
       "    </tr>\n",
       "    <tr>\n",
       "      <th>2</th>\n",
       "      <td>3</td>\n",
       "      <td>C</td>\n",
       "      <td>Allier</td>\n",
       "      <td>26747</td>\n",
       "      <td>7925</td>\n",
       "      <td>13</td>\n",
       "      <td>10973</td>\n",
       "      <td>17044</td>\n",
       "      <td>114121</td>\n",
       "      <td>2:Med</td>\n",
       "      <td>...</td>\n",
       "      <td>46</td>\n",
       "      <td>42</td>\n",
       "      <td>76</td>\n",
       "      <td>66</td>\n",
       "      <td>16</td>\n",
       "      <td>85</td>\n",
       "      <td>34</td>\n",
       "      <td>161.927</td>\n",
       "      <td>7340</td>\n",
       "      <td>298.26</td>\n",
       "    </tr>\n",
       "    <tr>\n",
       "      <th>3</th>\n",
       "      <td>4</td>\n",
       "      <td>E</td>\n",
       "      <td>Basses-Alpes</td>\n",
       "      <td>12935</td>\n",
       "      <td>7289</td>\n",
       "      <td>46</td>\n",
       "      <td>2733</td>\n",
       "      <td>23018</td>\n",
       "      <td>14238</td>\n",
       "      <td>1:Sm</td>\n",
       "      <td>...</td>\n",
       "      <td>70</td>\n",
       "      <td>12</td>\n",
       "      <td>37</td>\n",
       "      <td>80</td>\n",
       "      <td>32</td>\n",
       "      <td>29</td>\n",
       "      <td>2</td>\n",
       "      <td>351.399</td>\n",
       "      <td>6925</td>\n",
       "      <td>155.90</td>\n",
       "    </tr>\n",
       "    <tr>\n",
       "      <th>4</th>\n",
       "      <td>5</td>\n",
       "      <td>E</td>\n",
       "      <td>Hautes-Alpes</td>\n",
       "      <td>17488</td>\n",
       "      <td>8174</td>\n",
       "      <td>69</td>\n",
       "      <td>6962</td>\n",
       "      <td>23076</td>\n",
       "      <td>16171</td>\n",
       "      <td>1:Sm</td>\n",
       "      <td>...</td>\n",
       "      <td>22</td>\n",
       "      <td>23</td>\n",
       "      <td>64</td>\n",
       "      <td>79</td>\n",
       "      <td>35</td>\n",
       "      <td>7</td>\n",
       "      <td>1</td>\n",
       "      <td>320.280</td>\n",
       "      <td>5549</td>\n",
       "      <td>129.10</td>\n",
       "    </tr>\n",
       "  </tbody>\n",
       "</table>\n",
       "<p>5 rows × 23 columns</p>\n",
       "</div>"
      ],
      "text/plain": [
       "   dept Region    Department  Crime_pers  Crime_prop  Literacy  Donations  \\\n",
       "0     1      E           Ain       28870       15890        37       5098   \n",
       "1     2      N         Aisne       26226        5521        51       8901   \n",
       "2     3      C        Allier       26747        7925        13      10973   \n",
       "3     4      E  Basses-Alpes       12935        7289        46       2733   \n",
       "4     5      E  Hautes-Alpes       17488        8174        69       6962   \n",
       "\n",
       "   Infants  Suicides MainCity  ...  Crime_parents  Infanticide  \\\n",
       "0    33120     35039    2:Med  ...             71           60   \n",
       "1    14572     12831    2:Med  ...              4           82   \n",
       "2    17044    114121    2:Med  ...             46           42   \n",
       "3    23018     14238     1:Sm  ...             70           12   \n",
       "4    23076     16171     1:Sm  ...             22           23   \n",
       "\n",
       "   Donation_clergy  Lottery  Desertion  Instruction  Prostitutes  Distance  \\\n",
       "0               69       41         55           46           13   218.372   \n",
       "1               36       38         82           24          327    65.945   \n",
       "2               76       66         16           85           34   161.927   \n",
       "3               37       80         32           29            2   351.399   \n",
       "4               64       79         35            7            1   320.280   \n",
       "\n",
       "   Area  Pop1831  \n",
       "0  5762   346.03  \n",
       "1  7369   513.00  \n",
       "2  7340   298.26  \n",
       "3  6925   155.90  \n",
       "4  5549   129.10  \n",
       "\n",
       "[5 rows x 23 columns]"
      ]
     },
     "execution_count": 11,
     "metadata": {},
     "output_type": "execute_result"
    }
   ],
   "source": [
    "import statsmodels.api as sm\n",
    "import pandas\n",
    "from patsy import dmatrices # patsy用于描述统计模型和使用类似公式构建设计矩阵R\n",
    "# df = sm.datasets.get_rdataset(\"uerry\", \"HistData\").data\n",
    "df = pandas.read_csv('guerry.csv')\n",
    "df.head()"
   ]
  },
  {
   "cell_type": "code",
   "execution_count": 12,
   "metadata": {},
   "outputs": [
    {
     "name": "stdout",
     "output_type": "stream",
     "text": [
      "<class 'pandas.core.frame.DataFrame'>\n",
      "RangeIndex: 86 entries, 0 to 85\n",
      "Data columns (total 23 columns):\n",
      "dept               86 non-null int64\n",
      "Region             86 non-null object\n",
      "Department         86 non-null object\n",
      "Crime_pers         86 non-null int64\n",
      "Crime_prop         86 non-null int64\n",
      "Literacy           86 non-null int64\n",
      "Donations          86 non-null int64\n",
      "Infants            86 non-null int64\n",
      "Suicides           86 non-null int64\n",
      "MainCity           86 non-null object\n",
      "Wealth             86 non-null int64\n",
      "Commerce           86 non-null int64\n",
      "Clergy             86 non-null int64\n",
      "Crime_parents      86 non-null int64\n",
      "Infanticide        86 non-null int64\n",
      "Donation_clergy    86 non-null int64\n",
      "Lottery            86 non-null int64\n",
      "Desertion          86 non-null int64\n",
      "Instruction        86 non-null int64\n",
      "Prostitutes        86 non-null int64\n",
      "Distance           86 non-null float64\n",
      "Area               86 non-null int64\n",
      "Pop1831            86 non-null float64\n",
      "dtypes: float64(2), int64(18), object(3)\n",
      "memory usage: 15.5+ KB\n"
     ]
    }
   ],
   "source": [
    "df.info()"
   ]
  },
  {
   "cell_type": "code",
   "execution_count": 13,
   "metadata": {},
   "outputs": [
    {
     "data": {
      "text/html": [
       "<div>\n",
       "<style scoped>\n",
       "    .dataframe tbody tr th:only-of-type {\n",
       "        vertical-align: middle;\n",
       "    }\n",
       "\n",
       "    .dataframe tbody tr th {\n",
       "        vertical-align: top;\n",
       "    }\n",
       "\n",
       "    .dataframe thead th {\n",
       "        text-align: right;\n",
       "    }\n",
       "</style>\n",
       "<table border=\"1\" class=\"dataframe\">\n",
       "  <thead>\n",
       "    <tr style=\"text-align: right;\">\n",
       "      <th></th>\n",
       "      <th>dept</th>\n",
       "      <th>Region</th>\n",
       "      <th>Department</th>\n",
       "      <th>Crime_pers</th>\n",
       "      <th>Crime_prop</th>\n",
       "      <th>Literacy</th>\n",
       "      <th>Donations</th>\n",
       "      <th>Infants</th>\n",
       "      <th>Suicides</th>\n",
       "      <th>MainCity</th>\n",
       "      <th>...</th>\n",
       "      <th>Crime_parents</th>\n",
       "      <th>Infanticide</th>\n",
       "      <th>Donation_clergy</th>\n",
       "      <th>Lottery</th>\n",
       "      <th>Desertion</th>\n",
       "      <th>Instruction</th>\n",
       "      <th>Prostitutes</th>\n",
       "      <th>Distance</th>\n",
       "      <th>Area</th>\n",
       "      <th>Pop1831</th>\n",
       "    </tr>\n",
       "  </thead>\n",
       "  <tbody>\n",
       "    <tr>\n",
       "      <th>80</th>\n",
       "      <td>85</td>\n",
       "      <td>W</td>\n",
       "      <td>Vendee</td>\n",
       "      <td>20827</td>\n",
       "      <td>7566</td>\n",
       "      <td>28</td>\n",
       "      <td>14035</td>\n",
       "      <td>62486</td>\n",
       "      <td>67963</td>\n",
       "      <td>1:Sm</td>\n",
       "      <td>...</td>\n",
       "      <td>50</td>\n",
       "      <td>44</td>\n",
       "      <td>30</td>\n",
       "      <td>68</td>\n",
       "      <td>79</td>\n",
       "      <td>59</td>\n",
       "      <td>4</td>\n",
       "      <td>212.459</td>\n",
       "      <td>6720</td>\n",
       "      <td>330.36</td>\n",
       "    </tr>\n",
       "    <tr>\n",
       "      <th>81</th>\n",
       "      <td>86</td>\n",
       "      <td>W</td>\n",
       "      <td>Vienne</td>\n",
       "      <td>15010</td>\n",
       "      <td>4710</td>\n",
       "      <td>25</td>\n",
       "      <td>8922</td>\n",
       "      <td>35224</td>\n",
       "      <td>21851</td>\n",
       "      <td>2:Med</td>\n",
       "      <td>...</td>\n",
       "      <td>20</td>\n",
       "      <td>1</td>\n",
       "      <td>44</td>\n",
       "      <td>40</td>\n",
       "      <td>38</td>\n",
       "      <td>65</td>\n",
       "      <td>18</td>\n",
       "      <td>170.523</td>\n",
       "      <td>6990</td>\n",
       "      <td>282.73</td>\n",
       "    </tr>\n",
       "    <tr>\n",
       "      <th>82</th>\n",
       "      <td>87</td>\n",
       "      <td>C</td>\n",
       "      <td>Haute-Vienne</td>\n",
       "      <td>16256</td>\n",
       "      <td>6402</td>\n",
       "      <td>13</td>\n",
       "      <td>13817</td>\n",
       "      <td>19940</td>\n",
       "      <td>33497</td>\n",
       "      <td>2:Med</td>\n",
       "      <td>...</td>\n",
       "      <td>68</td>\n",
       "      <td>6</td>\n",
       "      <td>78</td>\n",
       "      <td>55</td>\n",
       "      <td>11</td>\n",
       "      <td>84</td>\n",
       "      <td>7</td>\n",
       "      <td>198.874</td>\n",
       "      <td>5520</td>\n",
       "      <td>285.13</td>\n",
       "    </tr>\n",
       "    <tr>\n",
       "      <th>83</th>\n",
       "      <td>88</td>\n",
       "      <td>E</td>\n",
       "      <td>Vosges</td>\n",
       "      <td>18835</td>\n",
       "      <td>9044</td>\n",
       "      <td>62</td>\n",
       "      <td>4040</td>\n",
       "      <td>14978</td>\n",
       "      <td>33029</td>\n",
       "      <td>2:Med</td>\n",
       "      <td>...</td>\n",
       "      <td>58</td>\n",
       "      <td>34</td>\n",
       "      <td>5</td>\n",
       "      <td>14</td>\n",
       "      <td>85</td>\n",
       "      <td>11</td>\n",
       "      <td>43</td>\n",
       "      <td>174.477</td>\n",
       "      <td>5874</td>\n",
       "      <td>397.99</td>\n",
       "    </tr>\n",
       "    <tr>\n",
       "      <th>84</th>\n",
       "      <td>89</td>\n",
       "      <td>C</td>\n",
       "      <td>Yonne</td>\n",
       "      <td>18006</td>\n",
       "      <td>6516</td>\n",
       "      <td>47</td>\n",
       "      <td>4276</td>\n",
       "      <td>16616</td>\n",
       "      <td>12789</td>\n",
       "      <td>2:Med</td>\n",
       "      <td>...</td>\n",
       "      <td>32</td>\n",
       "      <td>22</td>\n",
       "      <td>35</td>\n",
       "      <td>51</td>\n",
       "      <td>66</td>\n",
       "      <td>27</td>\n",
       "      <td>272</td>\n",
       "      <td>81.797</td>\n",
       "      <td>7427</td>\n",
       "      <td>352.49</td>\n",
       "    </tr>\n",
       "  </tbody>\n",
       "</table>\n",
       "<p>5 rows × 23 columns</p>\n",
       "</div>"
      ],
      "text/plain": [
       "    dept Region    Department  Crime_pers  Crime_prop  Literacy  Donations  \\\n",
       "80    85      W        Vendee       20827        7566        28      14035   \n",
       "81    86      W        Vienne       15010        4710        25       8922   \n",
       "82    87      C  Haute-Vienne       16256        6402        13      13817   \n",
       "83    88      E        Vosges       18835        9044        62       4040   \n",
       "84    89      C         Yonne       18006        6516        47       4276   \n",
       "\n",
       "    Infants  Suicides MainCity  ...  Crime_parents  Infanticide  \\\n",
       "80    62486     67963     1:Sm  ...             50           44   \n",
       "81    35224     21851    2:Med  ...             20            1   \n",
       "82    19940     33497    2:Med  ...             68            6   \n",
       "83    14978     33029    2:Med  ...             58           34   \n",
       "84    16616     12789    2:Med  ...             32           22   \n",
       "\n",
       "    Donation_clergy  Lottery  Desertion  Instruction  Prostitutes  Distance  \\\n",
       "80               30       68         79           59            4   212.459   \n",
       "81               44       40         38           65           18   170.523   \n",
       "82               78       55         11           84            7   198.874   \n",
       "83                5       14         85           11           43   174.477   \n",
       "84               35       51         66           27          272    81.797   \n",
       "\n",
       "    Area  Pop1831  \n",
       "80  6720   330.36  \n",
       "81  6990   282.73  \n",
       "82  5520   285.13  \n",
       "83  5874   397.99  \n",
       "84  7427   352.49  \n",
       "\n",
       "[5 rows x 23 columns]"
      ]
     },
     "execution_count": 13,
     "metadata": {},
     "output_type": "execute_result"
    }
   ],
   "source": [
    "import numpy\n",
    "#注意，Region列中有一个缺少的观察值。我们使用以下DataFrame方法提供的方法消除它pandas：\n",
    "df = df.replace(' ',numpy.NaN)\n",
    "df = df.dropna()\n",
    "df[-5:]"
   ]
  },
  {
   "cell_type": "markdown",
   "metadata": {},
   "source": [
    "### 设计矩阵\n",
    "第一个是内源变量矩阵（即依赖，响应，回归等）。\n",
    "\n",
    "第二个是外生变量矩阵（即独立变量，预测变量，回归量等）。"
   ]
  },
  {
   "cell_type": "code",
   "execution_count": 14,
   "metadata": {},
   "outputs": [
    {
     "data": {
      "text/html": [
       "<div>\n",
       "<style scoped>\n",
       "    .dataframe tbody tr th:only-of-type {\n",
       "        vertical-align: middle;\n",
       "    }\n",
       "\n",
       "    .dataframe tbody tr th {\n",
       "        vertical-align: top;\n",
       "    }\n",
       "\n",
       "    .dataframe thead th {\n",
       "        text-align: right;\n",
       "    }\n",
       "</style>\n",
       "<table border=\"1\" class=\"dataframe\">\n",
       "  <thead>\n",
       "    <tr style=\"text-align: right;\">\n",
       "      <th></th>\n",
       "      <th>Lottery</th>\n",
       "    </tr>\n",
       "  </thead>\n",
       "  <tbody>\n",
       "    <tr>\n",
       "      <th>0</th>\n",
       "      <td>41.0</td>\n",
       "    </tr>\n",
       "    <tr>\n",
       "      <th>1</th>\n",
       "      <td>38.0</td>\n",
       "    </tr>\n",
       "    <tr>\n",
       "      <th>2</th>\n",
       "      <td>66.0</td>\n",
       "    </tr>\n",
       "  </tbody>\n",
       "</table>\n",
       "</div>"
      ],
      "text/plain": [
       "   Lottery\n",
       "0     41.0\n",
       "1     38.0\n",
       "2     66.0"
      ]
     },
     "execution_count": 14,
     "metadata": {},
     "output_type": "execute_result"
    }
   ],
   "source": [
    "# 使用patsy的dmatrices函数来创建设计矩阵\n",
    "#  y 是一个 N×1关于人均彩票投注数据的一栏（彩票）。X 是 N×7带有截距， 识字和财富变量，以及4个区域二进制变量\n",
    "y, X = dmatrices('Lottery ~ Literacy + Wealth + Region', data=df, return_type='dataframe')\n",
    "y[:3]"
   ]
  },
  {
   "cell_type": "code",
   "execution_count": 15,
   "metadata": {},
   "outputs": [
    {
     "data": {
      "text/html": [
       "<div>\n",
       "<style scoped>\n",
       "    .dataframe tbody tr th:only-of-type {\n",
       "        vertical-align: middle;\n",
       "    }\n",
       "\n",
       "    .dataframe tbody tr th {\n",
       "        vertical-align: top;\n",
       "    }\n",
       "\n",
       "    .dataframe thead th {\n",
       "        text-align: right;\n",
       "    }\n",
       "</style>\n",
       "<table border=\"1\" class=\"dataframe\">\n",
       "  <thead>\n",
       "    <tr style=\"text-align: right;\">\n",
       "      <th></th>\n",
       "      <th>Intercept</th>\n",
       "      <th>Region[T.E]</th>\n",
       "      <th>Region[T.N]</th>\n",
       "      <th>Region[T.S]</th>\n",
       "      <th>Region[T.W]</th>\n",
       "      <th>Literacy</th>\n",
       "      <th>Wealth</th>\n",
       "    </tr>\n",
       "  </thead>\n",
       "  <tbody>\n",
       "    <tr>\n",
       "      <th>0</th>\n",
       "      <td>1.0</td>\n",
       "      <td>1.0</td>\n",
       "      <td>0.0</td>\n",
       "      <td>0.0</td>\n",
       "      <td>0.0</td>\n",
       "      <td>37.0</td>\n",
       "      <td>73.0</td>\n",
       "    </tr>\n",
       "    <tr>\n",
       "      <th>1</th>\n",
       "      <td>1.0</td>\n",
       "      <td>0.0</td>\n",
       "      <td>1.0</td>\n",
       "      <td>0.0</td>\n",
       "      <td>0.0</td>\n",
       "      <td>51.0</td>\n",
       "      <td>22.0</td>\n",
       "    </tr>\n",
       "    <tr>\n",
       "      <th>2</th>\n",
       "      <td>1.0</td>\n",
       "      <td>0.0</td>\n",
       "      <td>0.0</td>\n",
       "      <td>0.0</td>\n",
       "      <td>0.0</td>\n",
       "      <td>13.0</td>\n",
       "      <td>61.0</td>\n",
       "    </tr>\n",
       "  </tbody>\n",
       "</table>\n",
       "</div>"
      ],
      "text/plain": [
       "   Intercept  Region[T.E]  Region[T.N]  Region[T.S]  Region[T.W]  Literacy  \\\n",
       "0        1.0          1.0          0.0          0.0          0.0      37.0   \n",
       "1        1.0          0.0          1.0          0.0          0.0      51.0   \n",
       "2        1.0          0.0          0.0          0.0          0.0      13.0   \n",
       "\n",
       "   Wealth  \n",
       "0    73.0  \n",
       "1    22.0  \n",
       "2    61.0  "
      ]
     },
     "execution_count": 15,
     "metadata": {},
     "output_type": "execute_result"
    }
   ],
   "source": [
    "X[:3]"
   ]
  },
  {
   "cell_type": "code",
   "execution_count": 16,
   "metadata": {},
   "outputs": [
    {
     "name": "stdout",
     "output_type": "stream",
     "text": [
      "                            OLS Regression Results                            \n",
      "==============================================================================\n",
      "Dep. Variable:                Lottery   R-squared:                       0.338\n",
      "Model:                            OLS   Adj. R-squared:                  0.287\n",
      "Method:                 Least Squares   F-statistic:                     6.636\n",
      "Date:                Mon, 29 Jul 2019   Prob (F-statistic):           1.07e-05\n",
      "Time:                        08:53:49   Log-Likelihood:                -375.30\n",
      "No. Observations:                  85   AIC:                             764.6\n",
      "Df Residuals:                      78   BIC:                             781.7\n",
      "Df Model:                           6                                         \n",
      "Covariance Type:            nonrobust                                         \n",
      "===============================================================================\n",
      "                  coef    std err          t      P>|t|      [0.025      0.975]\n",
      "-------------------------------------------------------------------------------\n",
      "Intercept      38.6517      9.456      4.087      0.000      19.826      57.478\n",
      "Region[T.E]   -15.4278      9.727     -1.586      0.117     -34.793       3.938\n",
      "Region[T.N]   -10.0170      9.260     -1.082      0.283     -28.453       8.419\n",
      "Region[T.S]    -4.5483      7.279     -0.625      0.534     -19.039       9.943\n",
      "Region[T.W]   -10.0913      7.196     -1.402      0.165     -24.418       4.235\n",
      "Literacy       -0.1858      0.210     -0.886      0.378      -0.603       0.232\n",
      "Wealth          0.4515      0.103      4.390      0.000       0.247       0.656\n",
      "==============================================================================\n",
      "Omnibus:                        3.049   Durbin-Watson:                   1.785\n",
      "Prob(Omnibus):                  0.218   Jarque-Bera (JB):                2.694\n",
      "Skew:                          -0.340   Prob(JB):                        0.260\n",
      "Kurtosis:                       2.454   Cond. No.                         371.\n",
      "==============================================================================\n",
      "\n",
      "Warnings:\n",
      "[1] Standard Errors assume that the covariance matrix of the errors is correctly specified.\n"
     ]
    }
   ],
   "source": [
    "# 模型拟合和总结\n",
    "mod = sm.OLS(y, X)    # Describe model\n",
    "\n",
    "res = mod.fit()       # Fit model\n",
    "\n",
    "print(res.summary())   # Summarize model"
   ]
  },
  {
   "cell_type": "code",
   "execution_count": 17,
   "metadata": {},
   "outputs": [
    {
     "data": {
      "text/plain": [
       "Intercept      38.651655\n",
       "Region[T.E]   -15.427785\n",
       "Region[T.N]   -10.016961\n",
       "Region[T.S]    -4.548257\n",
       "Region[T.W]   -10.091276\n",
       "Literacy       -0.185819\n",
       "Wealth          0.451475\n",
       "dtype: float64"
      ]
     },
     "execution_count": 17,
     "metadata": {},
     "output_type": "execute_result"
    }
   ],
   "source": [
    "res.params"
   ]
  },
  {
   "cell_type": "code",
   "execution_count": 18,
   "metadata": {},
   "outputs": [
    {
     "name": "stdout",
     "output_type": "stream",
     "text": [
      "(0.847233997615691, 0.6997965543621644)\n"
     ]
    },
    {
     "data": {
      "image/png": "[encoded data removed]",
      "text/plain": [
       "<Figure size 432x288 with 1 Axes>"
      ]
     },
     "execution_count": 18,
     "metadata": {},
     "output_type": "execute_result"
    },
    {
     "data": {
      "image/png": "[encoded data removed]",
      "text/plain": [
       "<Figure size 432x288 with 1 Axes>"
      ]
     },
     "metadata": {
      "needs_background": "light"
     },
     "output_type": "display_data"
    }
   ],
   "source": [
    "# 应用Rainbow测试线性度\n",
    "print(sm.stats.linear_rainbow(res))#第一个数字是F统计量，第二个数字是p值。\n",
    "sm.graphics.plot_partregress('Lottery', 'Wealth', ['Region', 'Literacy'],\n",
    "                          data=df, obs_labels=False)\n"
   ]
  },
  {
   "cell_type": "markdown",
   "metadata": {},
   "source": [
    "Statsmodels文档：http://www.statsmodels.org/stable/gettingstarted.html"
   ]
  }
 ],
 "metadata": {
  "kernelspec": {
   "display_name": "Python 3",
   "language": "python",
   "name": "python3"
  },
  "language_info": {
   "codemirror_mode": {
    "name": "ipython",
    "version": 3
   },
   "file_extension": ".py",
   "mimetype": "text/x-python",
   "name": "python",
   "nbconvert_exporter": "python",
   "pygments_lexer": "ipython3",
   "version": "3.6.8"
  }
 },
 "nbformat": 4,
 "nbformat_minor": 2
}
